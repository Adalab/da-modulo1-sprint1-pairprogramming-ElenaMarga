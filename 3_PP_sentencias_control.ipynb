{
 "cells": [
  {
   "cell_type": "code",
   "execution_count": 1,
   "metadata": {},
   "outputs": [
    {
     "name": "stdout",
     "output_type": "stream",
     "text": [
      "este numero equivale a 0\n"
     ]
    }
   ],
   "source": [
    "#1. Verificar si un número es positivo, negativo o cero (if, elif, else)\n",
    "# Descripción: Dado un número, verifica si es positivo, negativo o cero.\n",
    "\n",
    "numero = 0\n",
    "\n",
    "if numero == 0: \n",
    "    print(\"este numero equivale a 0\")\n",
    "\n",
    "elif numero > 0:\n",
    "    print(\"este numero es positivo\")\n",
    "\n",
    "else: \n",
    "    print(\"este nuemvo es negativo\")\n"
   ]
  },
  {
   "cell_type": "code",
   "execution_count": 2,
   "metadata": {},
   "outputs": [
    {
     "name": "stdout",
     "output_type": "stream",
     "text": [
      "tu numero es 14 y por tanto es par\n",
      "0\n",
      "7.0\n"
     ]
    }
   ],
   "source": [
    "# 2. Verificar si un número es par o impar\n",
    "# Descripción: Dado un número, verifica si es par o impar.\n",
    "\n",
    "numero = 14\n",
    "\n",
    "if numero % 2 == 0:\n",
    "    print(f\"tu numero es {numero} y por tanto es par\")\n",
    "\n",
    "else:\n",
    "    print(f\"tu numero es {numero} y por tanto es impar\")\n",
    "\n",
    "\n",
    "# si yo divido el numero entre 2, si me da decimales, tiene residuo por tanto es impar, si no me da decimales No tiene residuo por tanto es par. \n",
    "print(numero % 2)\n",
    "print(numero/2)"
   ]
  },
  {
   "cell_type": "code",
   "execution_count": 3,
   "metadata": {},
   "outputs": [
    {
     "name": "stdout",
     "output_type": "stream",
     "text": [
      "el alumno ha suspendido\n"
     ]
    }
   ],
   "source": [
    "# 3. Verificar si un estudiante aprobó o suspendió un examen\n",
    "# Descripción: Dada la calificación de un estudiante en un examen, verifica si aprobó o suspendió \n",
    "# (si la calificación es mayor o igual a 60 se considera aprobado).\n",
    "\n",
    "calificacion = 8\n",
    "\n",
    "if calificacion >= 60:\n",
    "    print(\" el alumno está aprobado\")\n",
    "\n",
    "else: \n",
    "    print(\"el alumno ha suspendido\")"
   ]
  },
  {
   "cell_type": "code",
   "execution_count": 7,
   "metadata": {},
   "outputs": [
    {
     "name": "stdout",
     "output_type": "stream",
     "text": [
      "300 es mayor que 58\n"
     ]
    }
   ],
   "source": [
    "# 4 Calcula el máximo entre dos numeros. Desc: dados 2 num encuentra el máximo entre ellos. \n",
    "\n",
    "numero1 = 58\n",
    "numero2 = 300\n",
    "\n",
    "if numero1 > numero2:\n",
    "    print(f\"{numero1} es mayor que {numero2}\")\n",
    "\n",
    "else:\n",
    "    print(f\"{numero2} es mayor que {numero1}\")"
   ]
  },
  {
   "cell_type": "code",
   "execution_count": 9,
   "metadata": {},
   "outputs": [
    {
     "name": "stdout",
     "output_type": "stream",
     "text": [
      "Esta letra es una consonante\n"
     ]
    }
   ],
   "source": [
    "# 5. Verificar si una letra es una vocal o una consonante\n",
    "# Descripción: Dada una letra, verifica si es una vocal o una consonante.\n",
    "\n",
    "letra = \"b\"\n",
    "\n",
    "vocal = [ \"a\", \"e\", \"i\", \"o\", \"u\"]\n",
    "\n",
    "if letra in vocal: \n",
    "    print(\"Esta letra es una vocal\")\n",
    "\n",
    "else:\n",
    "    print(\"Esta letra es una consonante\")\n",
    "\n"
   ]
  },
  {
   "cell_type": "code",
   "execution_count": 10,
   "metadata": {},
   "outputs": [
    {
     "name": "stdout",
     "output_type": "stream",
     "text": [
      "Tu compra no tiene descuento\n"
     ]
    }
   ],
   "source": [
    "# 6. Calcula el descuento de una compra segun el monto total. \n",
    "# dado el monto total de una compra, calcula el desc segun las sig condiciones. \n",
    "# 1. si monto es = o mayor a 100, se aplica el 10% de lo contrario no hay descuento. \n",
    "\n",
    "compra = 50 \n",
    "\n",
    "if compra >= 100:\n",
    "    print(\"Se aplica un 10% de descuento que es, por tanto pagas\",int(compra * 0.9))\n",
    "\n",
    "else:\n",
    "    print(\"Tu compra no tiene descuento\")"
   ]
  },
  {
   "cell_type": "code",
   "execution_count": 12,
   "metadata": {},
   "outputs": [
    {
     "name": "stdout",
     "output_type": "stream",
     "text": [
      "No es divisible entre 400, por lo tanto no es bisiesto/par\n"
     ]
    }
   ],
   "source": [
    "# 7. Verifica si un año es bisiesto o no. \n",
    "# desc: dado un año verifica si es bisiesto o no. es divisible si es entre 4, Excepto aquellos divisibles entre 100 pero no entre 400. \n",
    "\n",
    "año = 1985\n",
    "\n",
    "if año % 4 == 0: \n",
    "    print(\"Es divisible entre 4, por lo tanto es bisiesto/par\")\n",
    "    \n",
    "    if año % 100 == 0: \n",
    "          print(\"Es divisible entre 100, por lo tanto es bisiesto/par\")\n",
    "else:\n",
    "     print(\"No es divisible entre 400, por lo tanto no es bisiesto/par\")\n"
   ]
  },
  {
   "cell_type": "code",
   "execution_count": 14,
   "metadata": {},
   "outputs": [
    {
     "name": "stdout",
     "output_type": "stream",
     "text": [
      "Eres menor de edad\n"
     ]
    }
   ],
   "source": [
    "# 8. asigna una categoría a una edad.\n",
    "# dada una edad, asigna una categoría según las sig condiciones. \n",
    "\n",
    "# - si edad es menor de 18 = menor de edad\n",
    "# - si la edad es entre 18 y 64 (incl) = adulto \n",
    "# - si es mayor que 64 = adulto mayor \n",
    "\n",
    "edad = 2\n",
    "menor_edad = list(range(1,18))\n",
    "adultos =  list(range(18,65))\n",
    "adulto_mayor = list(range(65,100))    \n",
    "\n",
    "if edad in menor_edad:\n",
    "    print(\"Eres menor de edad\")\n",
    "\n",
    "elif edad in adultos:\n",
    "    print(\"Eres adulto\")\n",
    "\n",
    "else:\n",
    "    print(\"Eres un anciano\")"
   ]
  },
  {
   "cell_type": "code",
   "execution_count": 16,
   "metadata": {},
   "outputs": [
    {
     "name": "stdout",
     "output_type": "stream",
     "text": [
      "¡Triangulo- rectangulo!\n"
     ]
    }
   ],
   "source": [
    "# 9. Verifica si tres numeros forman un triangulo - rectangulo. \n",
    "# Dados 3 num verifica si forma triangulo - rect: si se cumple teorema de pitágoras. \n",
    "\n",
    "# teoremaP = (a** + b** == c**) (es un triangulo)\n",
    "\n",
    "a = 8**2\n",
    "b = 13**2\n",
    "c = a + b\n",
    "\n",
    "if c == a + b: \n",
    "    print(\"¡Triángulo- rectángulo!\")\n",
    "\n",
    "else: (\"No es un triángulo-rectángulo\")\n",
    "\n"
   ]
  },
  {
   "cell_type": "code",
   "execution_count": 20,
   "metadata": {},
   "outputs": [
    {
     "name": "stdout",
     "output_type": "stream",
     "text": [
      "El alumno obtuvo una puntuación de 60 por lo tanto, la nota final es:\n",
      "una D - Aprobado\n"
     ]
    }
   ],
   "source": [
    "# 10. Asignar una calificación a una puntuación\n",
    "#Descripción: Dada una puntuación, asigna una calificación según las siguientes condiciones: \n",
    "#si la puntuación es mayor o igual a 90, la calificación es \"A\"; si es mayor o igual a 80, la calificación es \"B\"; \n",
    "#si es mayor o igual a 70, la calificación es \"C\"; si es mayor o igual a 60, la calificación es \"D\"; de lo contrario, la calificación es \"F\".\n",
    "A = 90\n",
    "B = 80\n",
    "C = 70\n",
    "D = 60\n",
    "F = 50\n",
    "\n",
    "Sobresaliente = ((A)>=(A))\n",
    "Notable = ((B)>=(B)<=(A))\n",
    "Destaca = ((C)>=(C)<=(B))\n",
    "Aprobado = ((D)>=(D)<=(C))\n",
    "Suspenso = ((D)<=(D))\n",
    "\n",
    "\n",
    "# print (\"El alumno recibe una A si puntua igual o más de 90:\", Sobresaliente)\n",
    "# print (\"El alumno recibe una B si puntua igual o más de 80:\", Notable)\n",
    "# print (\"El alumno recibe una C si puntua igual o más de 70:\", Destaca)\n",
    "# print (\"El alumno recibe una D si puntua igual o más de 60:\", Aprobado)\n",
    "# print (\"El alumno recibe una F si puntua menos de 60:\", Suspenso)\n",
    "\n",
    "\n",
    "#Nota de alumno al final del curso\n",
    "\n",
    "Calificacion = int(input(\"Inserte una puntuación del 1 al 100\"))\n",
    "\n",
    "print (\"El alumno obtuvo una puntuación de\", Calificacion , \"por lo tanto, la nota final es:\")\n",
    "\n",
    "if Calificacion >= 90:    \n",
    "    print (\"una A - Sobresaliente\")\n",
    "elif Calificacion >= 80 <= 90:\n",
    "    print (\"una B - Notable\")\n",
    "elif Calificacion >= 70 <= 80:\n",
    "    print (\"una C - Destaca\")\n",
    "elif Calificacion >= 60 <= 70:\n",
    "    print (\"una D - Aprobado\")\n",
    "else:\n",
    "    print (\"una F - Suspenso\")"
   ]
  },
  {
   "cell_type": "code",
   "execution_count": 29,
   "metadata": {},
   "outputs": [
    {
     "name": "stdout",
     "output_type": "stream",
     "text": [
      "Peso normal: tu IMC para una altura de 1.76m y un peso de 68.0kgs es de = 22.0\n"
     ]
    }
   ],
   "source": [
    "# 11. Calcular el índice de masa corporal (IMC) y categorizarlo\n",
    "#Descripción: Dados el peso (en kg) y la altura (en metros) de una persona, calcula su IMC y categorízalo según las siguientes condiciones: \n",
    "#si el IMC es menor a 18.5, es \"Bajo peso\"; si está entre 18.5 y 24.9 (inclusive), es \"Peso normal\"; si está entre 25 y 29.9 (inclusive), es \"Sobrepeso\"; de lo contrario, es \"Obesidad\".\n",
    "\n",
    "altura = float(input(\"Escribe tu altura en metros: \"))\n",
    "\n",
    "peso = float(input(\"escribe tu peso en kgs: \"))\n",
    "#En la formula de IMC añado el round ( el numero que quiero redondear, cuantos decimales quiero dejar)\n",
    "imc = round((peso / (altura**2)), 1)\n",
    "\n",
    "\n",
    "if imc < 18.5: \n",
    "    print(f\"Bajo peso: tu IMC para una altura de {altura}m y un peso de {peso}kgs es de = {imc}\")\n",
    "\n",
    "elif imc >= 18.5 and imc <= 24.9: \n",
    "    print(f\"Peso normal: tu IMC para una altura de {altura}m y un peso de {peso}kgs es de = {imc}\")\n",
    "\n",
    "elif imc >= 25 and imc <= 29.9:\n",
    "    print(f\"Sobrepeso: tu IMC para una altura de {altura}m y un peso de {peso}kgs es de = {imc}\")\n",
    "\n",
    "else: \n",
    "    print(f\"Obesidad: tu IMC para una altura de {altura}m y un peso de {peso}kgs es de = {imc}\")"
   ]
  },
  {
   "cell_type": "code",
   "execution_count": 31,
   "metadata": {},
   "outputs": [
    {
     "name": "stdout",
     "output_type": "stream",
     "text": [
      "El número máximo de [10, 60, 220] es 220\n"
     ]
    }
   ],
   "source": [
    "# 12. Calcular el mayor de tres números \n",
    "# Descripción: Dados tres números, encuentra el mayor entre ellos. \n",
    "\n",
    "numeros = [ 10, 60, 220]\n",
    "\n",
    "maximo = max(numeros)\n",
    "\n",
    "print(f\"El número máximo de {numeros} es {maximo}\")"
   ]
  },
  {
   "cell_type": "code",
   "execution_count": 33,
   "metadata": {},
   "outputs": [
    {
     "name": "stdout",
     "output_type": "stream",
     "text": [
      "La fecha escogida por el usuario es: 10-5-1987\n",
      "10-5-1987 es una fecha válida\n"
     ]
    }
   ],
   "source": [
    "#13. BONUS:Sentencis de control. Verificar la validez de una fecha. \n",
    "# Descripción: dados el día, el mes y el año de una fecha, verifica si la fecha es válida. \n",
    "\n",
    "dia_input = input(\"Selecciona un día con número\")\n",
    "mes_input = input(\"Selecciona un mes con número\")\n",
    "año_input= input(\"Selecciona un año con número\")\n",
    "\n",
    "Dia = int(dia_input)\n",
    "Mes = int(mes_input)\n",
    "Año = int(año_input)\n",
    "fecha_usuario = [dia_input , mes_input , año_input]\n",
    "\n",
    "fecha_final = '-'.join(fecha_usuario)\n",
    "print(\"La fecha escogida por el usuario es:\",fecha_final)\n",
    "\n",
    "if Dia >=1 and Dia <=31:\n",
    "   \n",
    "      if Mes >=1 and Mes <=12:\n",
    "         \n",
    "            if Año >=1900 and Año <=2023:\n",
    "             \n",
    "                  print(fecha_final,\"es una fecha válida\")\n",
    "else:\n",
    "    print(fecha_final,\"NO es una fecha válida\")\n",
    "    "
   ]
  },
  {
   "cell_type": "markdown",
   "metadata": {},
   "source": [
    "EJERCICIOS WHILE"
   ]
  },
  {
   "cell_type": "code",
   "execution_count": 34,
   "metadata": {},
   "outputs": [
    {
     "name": "stdout",
     "output_type": "stream",
     "text": [
      "La suma de los primeros 10 numeros naturales es 1\n",
      "La suma de los primeros 10 numeros naturales es 2\n",
      "La suma de los primeros 10 numeros naturales es 3\n",
      "La suma de los primeros 10 numeros naturales es 4\n",
      "La suma de los primeros 10 numeros naturales es 5\n",
      "La suma de los primeros 10 numeros naturales es 6\n",
      "La suma de los primeros 10 numeros naturales es 7\n",
      "La suma de los primeros 10 numeros naturales es 8\n",
      "La suma de los primeros 10 numeros naturales es 9\n",
      "La suma de los primeros 10 numeros naturales es 10\n",
      "La suma de los primeros 10 numeros naturales es 11\n"
     ]
    }
   ],
   "source": [
    "#1. Calcular la suma de los primeros 10 números naturales utilizando un bucle while. \n",
    "# Descripción: Utiliza un bucle while para calcular la suma de los primeros 10 números naturales (1+2+3...10)\n",
    "numero_natural = 0\n",
    "ultimo_numero = 11\n",
    "while numero_natural < ultimo_numero:\n",
    "    numero_natural += 1\n",
    "    print(f'La suma de los primeros 10 numeros naturales es {numero_natural}')\n"
   ]
  },
  {
   "cell_type": "code",
   "execution_count": 11,
   "metadata": {},
   "outputs": [
    {
     "name": "stdout",
     "output_type": "stream",
     "text": [
      "El numero que has introducido 1 y en total sumas 1\n",
      "El numero que has introducido 2 y en total sumas 3\n",
      "El numero que has introducido 3 y en total sumas 6\n",
      "El numero que has introducido 4 y en total sumas 10\n",
      "El numero que has introducido 5 y en total sumas 15\n",
      "El numero que has introducido 6 y en total sumas 21\n",
      "El numero que has introducido 7 y en total sumas 28\n",
      "El numero que has introducido 8 y en total sumas 36\n",
      "El numero que has introducido 9 y en total sumas 45\n",
      "El numero que has introducido 10 y en total sumas 55\n",
      "Has llegado a sumarlo todo. La suma de esto da 55\n"
     ]
    }
   ],
   "source": [
    "# Asumo que donde tenemos que poner el STOP es en la suma total de estos numeros que es 55. \n",
    "\n",
    "#empiezo por 1. \n",
    "\n",
    "#DECLARO MIS VARIABLES: \n",
    "numero_lista = [1,2,3,4,5,6,7,8,9,10] #La lista a la que voy a apuntar para sumar\n",
    "indice = 0 #numero_inicio (el indice inicial por el que empiezo)\n",
    "numero_total = 0 #El total sumado inicial \n",
    "numero_final = 55 #el total sumado final \n",
    "\n",
    "\n",
    "#mientras el total no sea 55, seguiré contando y añadiendo el resultado numérico del loop anterior: \n",
    "# el numero total será: el numero total sumado que lleve hasta el momento + el numero que encuentre en la primera posición/indice de la lista \n",
    "#Cuando termine el loop, lo que haré será sumar una posición más al valor de índice, de forma que en la siguiente vuelta, me cogerá la siguiente posición (0+1 =1), (1+1=2)\n",
    "\n",
    "while numero_total < numero_final:\n",
    "    numero_total = numero_total + numero_lista[indice]\n",
    "    print(f\"El numero que has introducido {numero_lista[indice]} y en total sumas {numero_total}\")\n",
    "    indice = indice + 1\n",
    "\n",
    "else: \n",
    "    print(f\"Has llegado a sumarlo todo. La suma de esto da {numero_total}\")\n",
    "\n"
   ]
  },
  {
   "cell_type": "code",
   "execution_count": 6,
   "metadata": {},
   "outputs": [
    {
     "name": "stdout",
     "output_type": "stream",
     "text": [
      "El numero que la máquina ha escogido es 4\n",
      "Has escogido 8 y no coincide, ¡prueba con uno MENOR!\n",
      "Has escogido 7 y no coincide, ¡prueba con uno MENOR!\n",
      "Has escogido 6 y no coincide, ¡prueba con uno MENOR!\n",
      "Has escogido 5 y no coincide, ¡prueba con uno MENOR!\n",
      "Has acertado! el numero oculto es 4, !felicidades!\n"
     ]
    }
   ],
   "source": [
    "#2. Juego de adivinanza utilizando un bucle while. \n",
    "# descripción: crea un juego de adivinanza en el que el jugador tiene que adivinar un número secreto (tendrá que ser entre el 0 y 10). \n",
    "#Utiliza un bucle while para permitir múltiples intentos hasta que el jugador adivine correctamente\n",
    "\n",
    "import random\n",
    "\n",
    "numero_azar = random.randint(0, 10)\n",
    "print(f\"El numero que la máquina ha escogido es {numero_azar}\")\n",
    "\n",
    "numero_escogido = int(input(\"Introduce un numero al azar del 0 al 10: \"))\n",
    "\n",
    "while numero_azar != numero_escogido:\n",
    "    \n",
    "    if numero_azar > numero_escogido:\n",
    "        print(f\"Has escogido {numero_escogido} y no coincide, ¡prueba con uno MAYOR!\")\n",
    "        numero_escogido = int(input(\"Introduce un numero al azar del 0 al 10: \"))\n",
    "     \n",
    "    elif numero_azar < numero_escogido: \n",
    "        print(f\"Has escogido {numero_escogido} y no coincide, ¡prueba con uno MENOR!\")\n",
    "        numero_escogido = int(input(\"Introduce un numero al azar del 0 al 10: \"))\n",
    "\n",
    "else: \n",
    " print(f\"Has acertado! el numero oculto es {numero_azar}, !felicidades!\")"
   ]
  }
 ],
 "metadata": {
  "kernelspec": {
   "display_name": "base",
   "language": "python",
   "name": "python3"
  },
  "language_info": {
   "codemirror_mode": {
    "name": "ipython",
    "version": 3
   },
   "file_extension": ".py",
   "mimetype": "text/x-python",
   "name": "python",
   "nbconvert_exporter": "python",
   "pygments_lexer": "ipython3",
   "version": "3.11.5"
  },
  "orig_nbformat": 4
 },
 "nbformat": 4,
 "nbformat_minor": 2
}

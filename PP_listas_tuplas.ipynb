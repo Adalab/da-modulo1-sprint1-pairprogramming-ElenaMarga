{
 "cells": [
  {
   "cell_type": "code",
   "execution_count": 2,
   "metadata": {},
   "outputs": [
    {
     "name": "stdout",
     "output_type": "stream",
     "text": [
      "[2, 4, 6, 8, 2, 4, 6, 8]\n"
     ]
    }
   ],
   "source": [
    "# dada la siguiente lista el output esperado es:\n",
    "lista = [2, 4, 6, 8]\n",
    "\n",
    "[2, 4, 6, 8, 2, 4, 6, 8]\n",
    "\n",
    "lista_duplicada = lista*2\n",
    "print(lista_duplicada)\n"
   ]
  },
  {
   "cell_type": "code",
   "execution_count": 3,
   "metadata": {},
   "outputs": [
    {
     "name": "stdout",
     "output_type": "stream",
     "text": [
      "[1, 2, 3, 4, 5, 6]\n"
     ]
    }
   ],
   "source": [
    "# Combinar dos listas \n",
    "\n",
    " # dadas las siguientes listas el output esperado es:\n",
    "lista1 = [1, 2, 3]\n",
    "lista2 = [4, 5, 6]\n",
    "\n",
    "[1, 2, 3, 4, 5, 6]\n",
    "\n",
    "lista1.extend(lista2)\n",
    "print(lista1)\n",
    "\n",
    "\n",
    "\n"
   ]
  },
  {
   "cell_type": "code",
   "execution_count": 4,
   "metadata": {},
   "outputs": [
    {
     "name": "stdout",
     "output_type": "stream",
     "text": [
      "21\n"
     ]
    }
   ],
   "source": [
    "# 3. Calcula la suma de una lista de números: \n",
    "\n",
    "listasuma = sum(lista1)\n",
    "print(listasuma)\n"
   ]
  },
  {
   "cell_type": "code",
   "execution_count": 5,
   "metadata": {},
   "outputs": [
    {
     "name": "stdout",
     "output_type": "stream",
     "text": [
      "[1, 2, 3, 4, 5, 6]\n",
      "6\n"
     ]
    }
   ],
   "source": [
    "# 4. Encontrar el valor máximo en una lista: \n",
    "print(lista1)\n",
    "v_max = max(lista1)\n",
    "print(v_max)\n"
   ]
  },
  {
   "cell_type": "code",
   "execution_count": 6,
   "metadata": {},
   "outputs": [
    {
     "name": "stdout",
     "output_type": "stream",
     "text": [
      "[1, 2, 3, 4, 5, 6]\n",
      "6\n"
     ]
    }
   ],
   "source": [
    "# 5. Calcular la longitud de una lista. \n",
    "\n",
    "print(lista1)\n",
    "long_lista = len(lista1)\n",
    "print(long_lista)"
   ]
  },
  {
   "cell_type": "code",
   "execution_count": 7,
   "metadata": {},
   "outputs": [
    {
     "name": "stdout",
     "output_type": "stream",
     "text": [
      "[1, 2, 3, 4, 5, 6]\n"
     ]
    },
    {
     "data": {
      "text/plain": [
       "5"
      ]
     },
     "execution_count": 7,
     "metadata": {},
     "output_type": "execute_result"
    }
   ],
   "source": [
    "# 6 Encontrar el índice de un elemento en una lista. \n",
    "\n",
    "print(lista1)\n",
    "lista1.index(6)\n"
   ]
  },
  {
   "cell_type": "code",
   "execution_count": 8,
   "metadata": {},
   "outputs": [
    {
     "name": "stdout",
     "output_type": "stream",
     "text": [
      "El número de veces que aparece el elemento es: 4\n"
     ]
    }
   ],
   "source": [
    "# 7. Contar ocurrencias de un elemento en una lista. Cuenta cuantas veces aparece el valor objetivo en la lista\n",
    "\n",
    "lista_ocurr = [2, 3, 4, 4, 5, 6, 6, 6, 6, 90]\n",
    "\n",
    "resultado_count = lista_ocurr.count(6)\n",
    "\n",
    "print(\"El número de veces que aparece el elemento es:\", resultado_count)\n"
   ]
  },
  {
   "cell_type": "code",
   "execution_count": 9,
   "metadata": {},
   "outputs": [
    {
     "name": "stdout",
     "output_type": "stream",
     "text": [
      "['Alex', 'Elena', 'Nico']\n"
     ]
    }
   ],
   "source": [
    "# 8. Obtener una sublista de una lista. Desde el índice 2 hasta el 5 sin incluirlo. \n",
    "\n",
    "lista_ppal = [ \"Marga\", \"Marc\", \"Alex\", \"Elena\", \"Nico\", \"Neus\", \"Juana\"]\n",
    "\n",
    "lista_reduc = lista_ppal[2:5]\n",
    "print(lista_reduc)"
   ]
  },
  {
   "cell_type": "code",
   "execution_count": 10,
   "metadata": {},
   "outputs": [
    {
     "data": {
      "text/plain": [
       "'Juana'"
      ]
     },
     "execution_count": 10,
     "metadata": {},
     "output_type": "execute_result"
    }
   ],
   "source": [
    "# 9. Obtener el último elemento de una lista. \n",
    "\n",
    "lista_ppal[-1]\n"
   ]
  },
  {
   "cell_type": "code",
   "execution_count": 11,
   "metadata": {},
   "outputs": [
    {
     "data": {
      "text/plain": [
       "90"
      ]
     },
     "execution_count": 11,
     "metadata": {},
     "output_type": "execute_result"
    }
   ],
   "source": [
    "# 10. Obtener el último elemendo de una lista\n",
    "\n",
    "lista_ocurr[-1]\n"
   ]
  },
  {
   "cell_type": "code",
   "execution_count": 12,
   "metadata": {},
   "outputs": [
    {
     "name": "stdout",
     "output_type": "stream",
     "text": [
      "['Marc', 'Alex']\n"
     ]
    }
   ],
   "source": [
    "# 11. Obtener una sublista de una lista. Desde el índice 1 hasta el 3 sin incluirlo. \n",
    "\n",
    "lista_reduc2 = lista_ppal[1:3]\n",
    "print(lista_reduc2)"
   ]
  },
  {
   "cell_type": "code",
   "execution_count": 13,
   "metadata": {},
   "outputs": [
    {
     "name": "stdout",
     "output_type": "stream",
     "text": [
      "['Arnau', 'Aina', 'Sigrid', 'Eugenio', 'Alba']\n"
     ]
    }
   ],
   "source": [
    "# 12. Reemplazar un elemento de una lista. Reemplaza el segundo elemento con un nuevo valor. \n",
    "\n",
    "lista_amigos = [\"Arnau\", \"Aina\", \"Javi\", \"Sigrid\", \"Alba\"]\n",
    "\n",
    "\n",
    "# hacer un pop \n",
    "# # hacer un insert \n",
    "# hacer un replace ?\n",
    "\n",
    "\n",
    "lista_amigos.pop(2)\n",
    "lista_amigos.insert(3, \"Eugenio\")\n",
    "print(lista_amigos)"
   ]
  },
  {
   "cell_type": "code",
   "execution_count": 14,
   "metadata": {},
   "outputs": [
    {
     "name": "stdout",
     "output_type": "stream",
     "text": [
      "['Alba', 'Eugenio', 'Sigrid', 'Aina', 'Arnau']\n"
     ]
    }
   ],
   "source": [
    "# 13. Obtener una lista inversa. \n",
    "\n",
    "lista_amigos.reverse()\n",
    "\n",
    "print(lista_amigos)"
   ]
  },
  {
   "cell_type": "code",
   "execution_count": 15,
   "metadata": {},
   "outputs": [
    {
     "name": "stdout",
     "output_type": "stream",
     "text": [
      "[13, 22, 23, 54, 64, 65, 99, 789]\n"
     ]
    }
   ],
   "source": [
    "# 14. Ordenar na lista en orden ascendente. \n",
    "\n",
    "lista_num = [13, 22, 64, 54, 789, 23, 65, 99]\n",
    "\n",
    "lista_num.sort()\n",
    "\n",
    "print(lista_num)"
   ]
  },
  {
   "cell_type": "code",
   "execution_count": 16,
   "metadata": {},
   "outputs": [
    {
     "data": {
      "text/plain": [
       "[22, 54, 65, 789]"
      ]
     },
     "execution_count": 16,
     "metadata": {},
     "output_type": "execute_result"
    }
   ],
   "source": [
    "# 15. Obtener elementos pares de una lista. (posiciones pares)\n",
    "\n",
    "lista_num[1::2]"
   ]
  },
  {
   "cell_type": "code",
   "execution_count": 17,
   "metadata": {},
   "outputs": [
    {
     "name": "stdout",
     "output_type": "stream",
     "text": [
      "[13, 22, 23, 54, 64, 65, 99, 789]\n",
      "[13, 54, 99]\n"
     ]
    }
   ],
   "source": [
    "# 16, Obtener una sublista saltando elemento. Dada una lista obtén una sublista que contenga elemento saltando de 3 en 3. \n",
    "\n",
    "print(lista_num)\n",
    "\n",
    "#Empieza a revisar en posición 0, hasta la última y dando 3 saltos. \n",
    "sublista_num = lista_num[::3]\n",
    "\n",
    "print(sublista_num)\n"
   ]
  },
  {
   "cell_type": "code",
   "execution_count": 18,
   "metadata": {},
   "outputs": [
    {
     "name": "stdout",
     "output_type": "stream",
     "text": [
      "[13, 22, 23, 54, 64, 65, 99, 789]\n",
      "El segundo valor más alto es: 99\n"
     ]
    }
   ],
   "source": [
    "# 17, Encontrar el segundo valor máximo en una lista. \n",
    "\n",
    "print(lista_num)\n",
    "\n",
    "#Cojo el listado de números y los ordeno de menor a mayor.\n",
    "lista_num_ordenada = sorted(lista_num)\n",
    "\n",
    "#Selecciono el penúltimo valor considerando que será el segundo más alto \n",
    "\n",
    "print(\"El segundo valor más alto es:\", lista_num_ordenada[-2])\n",
    "\n",
    "\n",
    "\n",
    "\n"
   ]
  },
  {
   "cell_type": "markdown",
   "metadata": {},
   "source": [
    "18. Diferencia entre sort y sorted: \n",
    " \n",
    "- Sort machaca la variable existente\n",
    "- Sorted no cambia la variable de origen. se debe guardar en una variable nueva\n",
    "    - Ambas sirven para ordenar. "
   ]
  },
  {
   "cell_type": "code",
   "execution_count": 22,
   "metadata": {},
   "outputs": [
    {
     "name": "stdout",
     "output_type": "stream",
     "text": [
      "['Alba', 'Eugenio', 'Sigrid', 'Aina', 'Arnau', 'Eleonore', 'Oliana', 'Johnny', 'Mark', ['Eleonore', 'Oliana', 'Johnny', 'Mark'], 'Eleonore', 'Oliana', 'Johnny', 'Mark', 'Eleonore', 'Oliana', 'Johnny', 'Mark']\n"
     ]
    }
   ],
   "source": [
    "# 19. Agregar elementos a una lista utilizando append y extend.  \n",
    "# Descripción: Dada una lista inicial, agrega nuevos elementos utilizando tanto append como extend y observa las diferencias en el resultado final. El elemento que deberéis usar para añadir a la lista original tiene que ser una lista.\n",
    "\n",
    "\n",
    "#print(lista_amigos)\n",
    "lista_nuevos_amigos = [\"Eleonore\", \"Oliana\", \"Johnny\", \"Mark\"]\n",
    "\n",
    "#Extend \n",
    "\n",
    "lista_amigos.extend(lista_nuevos_amigos)\n",
    "print(lista_amigos)\n",
    "\n",
    "\n",
    "#Append \n",
    "#lista_amigos.append(lista_nuevos_amigos)\n",
    "\n",
    "#print(lista_amigos)\n",
    "\n",
    "\n"
   ]
  },
  {
   "cell_type": "code",
   "execution_count": 25,
   "metadata": {},
   "outputs": [
    {
     "name": "stdout",
     "output_type": "stream",
     "text": [
      "['Alba', 'Eugenio', 'Sigrid', 'Aina', 'Arnau', 'Eleonore', 'Oliana', 'Johnny', 'Mark', ['Eleonore', 'Oliana', 'Johnny', 'Mark'], 'Eleonore', 'Oliana', 'Johnny', 'Mark', 'Eleonore', 'Oliana', 'Johnny', 'Mark', ['Eleonore', 'Oliana', 'Johnny', 'Mark'], ['Eleonore', 'Oliana', 'Johnny', 'Mark'], ['Eleonore', 'Oliana', 'Johnny', 'Mark']]\n"
     ]
    }
   ],
   "source": [
    "#Append \n",
    "lista_amigos.append(lista_nuevos_amigos)\n",
    "\n",
    "print(lista_amigos)\n"
   ]
  },
  {
   "cell_type": "code",
   "execution_count": 5,
   "metadata": {},
   "outputs": [],
   "source": [
    "# 20, Insertar un elemento en una posición específica. Descripción: Dada una lista, inserta un nuevo elemento en una posición específica determinada por el usuario (debereis usar la función input para preguntar al usuario en que posición quiere insertar el elemento)\n",
    "\n"
   ]
  },
  {
   "cell_type": "code",
   "execution_count": null,
   "metadata": {},
   "outputs": [],
   "source": [
    "#21 Verificar si un elemento está presente en una lista. \n",
    "# Descripción: Dada una lista, verifica si un elemento específico está presente en ella. Igual que el caso anterior, debereis preguntar al usuario que elemento quiere buscar en la lista. El resultado deberá ser True o False."
   ]
  },
  {
   "cell_type": "code",
   "execution_count": 6,
   "metadata": {},
   "outputs": [],
   "source": [
    "# 22 Manipulación de una lista utilizando remove(), pop() y clear()\n",
    "\n",
    "#Descripción: crea una lista inicial, realiza operaciones de eliminación y limpieza utilizando los métodos de remove(), pop() y clear() y observa como afectan a la lista. "
   ]
  },
  {
   "cell_type": "markdown",
   "metadata": {},
   "source": [
    "EJERCICIOS DE TUPLAS"
   ]
  },
  {
   "cell_type": "code",
   "execution_count": 5,
   "metadata": {},
   "outputs": [
    {
     "name": "stdout",
     "output_type": "stream",
     "text": [
      "('Alex', 'Marga', 'Pinyolet')\n"
     ]
    }
   ],
   "source": [
    "# 1.Acceder al primer elemento de una tupla. Dada una tupla, obtén el primer elemento. \n",
    "\n",
    "primer_elemento = (\"Alex\", \"Marga\", \"Pinyolet\", \"Piticlin\")\n",
    "\n",
    "print(primer_elemento[0:3])\n",
    "      "
   ]
  },
  {
   "cell_type": "code",
   "execution_count": 6,
   "metadata": {},
   "outputs": [
    {
     "name": "stdout",
     "output_type": "stream",
     "text": [
      "Piticlin\n"
     ]
    }
   ],
   "source": [
    "# 2.Accede al último elemento de una tupla \n",
    "\n",
    "print(primer_elemento[-1])"
   ]
  },
  {
   "cell_type": "code",
   "execution_count": 7,
   "metadata": {},
   "outputs": [
    {
     "name": "stdout",
     "output_type": "stream",
     "text": [
      "4\n"
     ]
    }
   ],
   "source": [
    "# 3. Obtener la longitud de una tupla.\n",
    "\n",
    "print(len(primer_elemento))"
   ]
  },
  {
   "cell_type": "code",
   "execution_count": 8,
   "metadata": {},
   "outputs": [
    {
     "name": "stdout",
     "output_type": "stream",
     "text": [
      "('Marga', 'Alex', 'Arnau', 'Javi', 'Aina', 'Nico', 'Marc', 'Neus')\n"
     ]
    }
   ],
   "source": [
    "# 4 concatenar dos tuplas. Dadas dos tuplas, crea una nueva tupla que contenga todos los elementos de ambas tuplas. \n",
    "\n",
    "primera_tupla = (\"Marga\", \"Alex\", \"Arnau\", \"Javi\")\n",
    "segunda_tupla = (\"Aina\", \"Nico\", \"Marc\", \"Neus\")\n",
    "\n",
    "tupla_conjunta = primera_tupla + segunda_tupla\n",
    "\n",
    "print(tupla_conjunta)"
   ]
  },
  {
   "cell_type": "code",
   "execution_count": null,
   "metadata": {},
   "outputs": [],
   "source": [
    "#5 Encontrar el índice de un elemento de una tupla. Dada un tupla y un valor objetivo, encuentre el índice del primer elemento que coincida con el valor objetivo."
   ]
  }
 ],
 "metadata": {
  "kernelspec": {
   "display_name": "base",
   "language": "python",
   "name": "python3"
  },
  "language_info": {
   "codemirror_mode": {
    "name": "ipython",
    "version": 3
   },
   "file_extension": ".py",
   "mimetype": "text/x-python",
   "name": "python",
   "nbconvert_exporter": "python",
   "pygments_lexer": "ipython3",
   "version": "3.11.5"
  },
  "orig_nbformat": 4
 },
 "nbformat": 4,
 "nbformat_minor": 2
}

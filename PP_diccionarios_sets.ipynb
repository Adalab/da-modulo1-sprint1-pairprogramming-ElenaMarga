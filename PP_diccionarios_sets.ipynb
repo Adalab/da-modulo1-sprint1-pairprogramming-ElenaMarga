{
 "cells": [
  {
   "cell_type": "code",
   "execution_count": 54,
   "metadata": {},
   "outputs": [
    {
     "name": "stdout",
     "output_type": "stream",
     "text": [
      "{}\n"
     ]
    }
   ],
   "source": [
    "# 1. Crear un diccionario vacío\n",
    "# Descripción: Crea un diccionario vacío sin ningún par clave-valor.\n",
    "\n",
    "diccionario_vacio = {}\n",
    "print(diccionario_vacio)"
   ]
  },
  {
   "cell_type": "code",
   "execution_count": 55,
   "metadata": {},
   "outputs": [
    {
     "name": "stdout",
     "output_type": "stream",
     "text": [
      "{'lunes': 1, 'martes': 2, 'miércoles': 3, 'jueves': 4, 'viernes': 5}\n"
     ]
    }
   ],
   "source": [
    " # 2. Crear un diccionario con elementos\n",
    "# Descripción: Crea un diccionario con pares clave-valor predefinidos. Definir el diccionario con las claves y valores que querais. \n",
    "# NOTA El diccionario debe tener al menos 5 pares de clave:valor.\n",
    "\n",
    "diccionario_elementos = {\"lunes\": 1,\n",
    "                         \"martes\": 2,\n",
    "                         \"miércoles\": 3,\n",
    "                         \"jueves\": 4,\n",
    "                         \"viernes\": 5}\n",
    "\n",
    "print(diccionario_elementos)"
   ]
  },
  {
   "cell_type": "code",
   "execution_count": 74,
   "metadata": {},
   "outputs": [
    {
     "name": "stdout",
     "output_type": "stream",
     "text": [
      "{'lunes': 1, 'martes': 2, 'miércoles': 3, 'jueves': 4, 'viernes': 5, ('sabado', 6): ('domingo', 7), 'sabado': 6, 'domingo': 7}\n"
     ]
    },
    {
     "ename": "KeyError",
     "evalue": "''",
     "output_type": "error",
     "traceback": [
      "\u001b[0;31m---------------------------------------------------------------------------\u001b[0m",
      "\u001b[0;31mKeyError\u001b[0m                                  Traceback (most recent call last)",
      "\u001b[1;32m/Users/margaritaobrador/Adalab/Module-1/pp-module1/da-modulo1-sprint1-pairprogramming-ElenaMarga/PP_diccionarios_sets.ipynb Cell 3\u001b[0m line \u001b[0;36m6\n\u001b[1;32m      <a href='vscode-notebook-cell:/Users/margaritaobrador/Adalab/Module-1/pp-module1/da-modulo1-sprint1-pairprogramming-ElenaMarga/PP_diccionarios_sets.ipynb#W2sZmlsZQ%3D%3D?line=3'>4</a>\u001b[0m \u001b[39mprint\u001b[39m(diccionario_elementos)\n\u001b[1;32m      <a href='vscode-notebook-cell:/Users/margaritaobrador/Adalab/Module-1/pp-module1/da-modulo1-sprint1-pairprogramming-ElenaMarga/PP_diccionarios_sets.ipynb#W2sZmlsZQ%3D%3D?line=4'>5</a>\u001b[0m acceso_clave \u001b[39m=\u001b[39m \u001b[39minput\u001b[39m(\u001b[39mf\u001b[39m\u001b[39m\"\u001b[39m\u001b[39mAccede al valor introduciendo la clave: \u001b[39m\u001b[39m{\u001b[39;00mdiccionario_elementos\u001b[39m.\u001b[39mkeys()\u001b[39m}\u001b[39;00m\u001b[39m \u001b[39m\u001b[39m\"\u001b[39m)\n\u001b[0;32m----> <a href='vscode-notebook-cell:/Users/margaritaobrador/Adalab/Module-1/pp-module1/da-modulo1-sprint1-pairprogramming-ElenaMarga/PP_diccionarios_sets.ipynb#W2sZmlsZQ%3D%3D?line=5'>6</a>\u001b[0m \u001b[39mprint\u001b[39m(diccionario_elementos[acceso_clave])\n",
      "\u001b[0;31mKeyError\u001b[0m: ''"
     ]
    }
   ],
   "source": [
    "# 3. Acceder al valor de una clave en un diccionario\n",
    "#Descripción: Usando el diccionario creado en el paso anterior, obtén el valor correspondiente a una clave específica que indique el usuario (debereis usar la función input() para preguntar al usuario).\n",
    "\n",
    "print(diccionario_elementos)\n",
    "acceso_clave = input(f\"Accede al valor introduciendo la clave: {diccionario_elementos.keys()} \")\n",
    "print(diccionario_elementos[acceso_clave])\n"
   ]
  },
  {
   "cell_type": "code",
   "execution_count": null,
   "metadata": {},
   "outputs": [
    {
     "name": "stdout",
     "output_type": "stream",
     "text": [
      "{'lunes': 1, 'martes': 2, 'miércoles': 3, 'jueves': 4, 'viernes': 5, 'sabado': 6}\n",
      "{'lunes': 1, 'martes': 2, 'miércoles': 3, 'jueves': 4, 'viernes': 5, 'sabado': 6}\n"
     ]
    }
   ],
   "source": [
    "# 4. Agregar un nuevo par clave- valor a un diccionario. Usando el dicc creado en el ejercicio 2, agrega un nuvo par clave valor\n",
    "\n",
    "print(diccionario_elementos)\n",
    "\n",
    "diccionario_elementos.setdefault(\"sabado\", 6)\n",
    "\n",
    "print(diccionario_elementos)\n",
    "\n",
    "#Pendiente revisar opción append or update \n"
   ]
  },
  {
   "cell_type": "code",
   "execution_count": null,
   "metadata": {},
   "outputs": [
    {
     "name": "stdout",
     "output_type": "stream",
     "text": [
      "{'lunes': 1, 'martes': 8, 'miércoles': 3, 'jueves': 4, 'viernes': 5, 'sabado': 6}\n"
     ]
    }
   ],
   "source": [
    "#5 actualizar el valor de una clave en un diccionario. \n",
    "# Descripción: Usando el diccionario creado en el ejercicio 2, actualiza el valor correspondiente a una clave existente. Ejemplo:\n",
    "\n",
    "print(diccionario_elementos)\n",
    "\n",
    "diccionario_elementos2 = {\"martes\":8}\n",
    "\n",
    "diccionario_elementos.update(diccionario_elementos2)\n"
   ]
  },
  {
   "cell_type": "code",
   "execution_count": null,
   "metadata": {},
   "outputs": [
    {
     "name": "stdout",
     "output_type": "stream",
     "text": [
      "4\n"
     ]
    },
    {
     "data": {
      "text/plain": [
       "{'lunes': 1, 'miércoles': 3, 'viernes': 5, 'sabado': 6}"
      ]
     },
     "execution_count": 46,
     "metadata": {},
     "output_type": "execute_result"
    }
   ],
   "source": [
    "#6. Eliminar un par clave valor específico de un diccionario. Usando la función input()\n",
    "\n",
    "diccionario_elementos\n",
    "\n",
    "valor_pop = input(\"Dime que valor quieres quitar: \")\n",
    "print(diccionario_elementos.pop(valor_pop))\n",
    "\n",
    "diccionario_elementos\n"
   ]
  },
  {
   "cell_type": "code",
   "execution_count": null,
   "metadata": {},
   "outputs": [
    {
     "name": "stdout",
     "output_type": "stream",
     "text": [
      "None\n"
     ]
    },
    {
     "data": {
      "text/plain": [
       "{'lunes': 1, 'miércoles': 3, 'viernes': 5, 'sabado': 6}"
      ]
     },
     "execution_count": 50,
     "metadata": {},
     "output_type": "execute_result"
    }
   ],
   "source": [
    "#7. Verificar si una clave está presente de un diccionario. \n",
    "\n",
    "# Descripción: Usando el diccionario creado en el ejercicio 2, elimina un par clave-valor específico que indique el usuario \n",
    "#(debereis usar la función input() para preguntar al usuario).\n",
    "\n",
    "\n",
    "diccionario_elementos\n",
    "\n",
    "var_chequeo = input(\"Buscar el valor que quieras para saber si está: \")\n",
    "print(diccionario_elementos.get(var_chequeo))\n",
    "\n",
    "diccionario_elementos"
   ]
  },
  {
   "cell_type": "code",
   "execution_count": 59,
   "metadata": {},
   "outputs": [
    {
     "name": "stdout",
     "output_type": "stream",
     "text": [
      "{'lunes': 1, 'martes': 2, 'miércoles': 3, 'jueves': 4, 'viernes': 5}\n",
      "['lunes', 'martes', 'miércoles', 'jueves', 'viernes']\n"
     ]
    }
   ],
   "source": [
    "#8 obtener una lista de todas las claves del diccionario. \n",
    "# Descripción: Usando el diccionario creado en el ejercicio 2, obtén una lista con todas las claves que contiene.\n",
    "\n",
    "diccionario_elementos\n",
    "\n",
    "diccionario_elementos_copy = diccionario_elementos.copy()\n",
    "print(diccionario_elementos_copy)\n",
    "\n",
    "diccionario_elementos_copy = list(diccionario_elementos_copy)\n",
    "print(diccionario_elementos_copy)\n",
    "\n"
   ]
  },
  {
   "cell_type": "code",
   "execution_count": 62,
   "metadata": {},
   "outputs": [
    {
     "name": "stdout",
     "output_type": "stream",
     "text": [
      "{'lunes': 1, 'martes': 2, 'miércoles': 3, 'jueves': 4, 'viernes': 5}\n"
     ]
    },
    {
     "data": {
      "text/plain": [
       "[1, 2, 3, 4, 5]"
      ]
     },
     "execution_count": 62,
     "metadata": {},
     "output_type": "execute_result"
    }
   ],
   "source": [
    "#9. Obtener una lista de todos los valores de un diccionario. Obten los valores del diccionario en formato lista\n",
    "\n",
    "diccionario_elementos_copy_values = diccionario_elementos.copy()\n",
    "print(diccionario_elementos_copy_values)\n",
    "\n",
    "diccionario_elementos_copy_values = list(diccionario_elementos_copy_values.values())\n",
    "diccionario_elementos_copy_values\n"
   ]
  },
  {
   "cell_type": "code",
   "execution_count": 73,
   "metadata": {},
   "outputs": [
    {
     "data": {
      "text/plain": [
       "{'lunes': 1,\n",
       " 'martes': 2,\n",
       " 'miércoles': 3,\n",
       " 'jueves': 4,\n",
       " 'viernes': 5,\n",
       " ('sabado', 6): ('domingo', 7),\n",
       " 'sabado': 6,\n",
       " 'domingo': 7}"
      ]
     },
     "execution_count": 73,
     "metadata": {},
     "output_type": "execute_result"
    }
   ],
   "source": [
    "#10. Utilizar el método setdefault() para establecer un valor predeterminado si la clave no existe. \n",
    "# Usando el diccionario creado en el ejercicio 2, obten el valor correspondiente a una clave. \n",
    "# Si la clave no existe, establece un valor predeterminado y devuelve dicho valor.\n",
    "\n",
    "diccionario_elementos.setdefault(\"sabado\", 6 )\n",
    "diccionario_elementos.setdefault(\"domingo\", 7)\n",
    "\n",
    "diccionario_elementos\n",
    "\n"
   ]
  }
 ],
 "metadata": {
  "kernelspec": {
   "display_name": "base",
   "language": "python",
   "name": "python3"
  },
  "language_info": {
   "codemirror_mode": {
    "name": "ipython",
    "version": 3
   },
   "file_extension": ".py",
   "mimetype": "text/x-python",
   "name": "python",
   "nbconvert_exporter": "python",
   "pygments_lexer": "ipython3",
   "version": "3.11.5"
  },
  "orig_nbformat": 4
 },
 "nbformat": 4,
 "nbformat_minor": 2
}

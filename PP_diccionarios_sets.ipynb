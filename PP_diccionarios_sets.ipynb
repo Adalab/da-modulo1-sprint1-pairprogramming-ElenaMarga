{
 "cells": [
  {
   "cell_type": "code",
   "execution_count": 3,
   "metadata": {},
   "outputs": [
    {
     "name": "stdout",
     "output_type": "stream",
     "text": [
      "{}\n"
     ]
    }
   ],
   "source": [
    "# 1. Crear un diccionario vacío\n",
    "# Descripción: Crea un diccionario vacío sin ningún par clave-valor.\n",
    "\n",
    "diccionario_vacio = {}\n",
    "print(diccionario_vacio)"
   ]
  },
  {
   "cell_type": "code",
   "execution_count": 4,
   "metadata": {},
   "outputs": [],
   "source": [
    " # 2. Crear un diccionario con elementos\n",
    "# Descripción: Crea un diccionario con pares clave-valor predefinidos. Definir el diccionario con las claves y valores que querais. \n",
    "# NOTA El diccionario debe tener al menos 5 pares de clave:valor."
   ]
  },
  {
   "cell_type": "code",
   "execution_count": 5,
   "metadata": {},
   "outputs": [
    {
     "name": "stdout",
     "output_type": "stream",
     "text": [
      "{'marga': 36, 'alex': 31, 'elena': 42, 'juana': 70, 'arnau': 35, 'aina': 35}\n"
     ]
    }
   ],
   "source": [
    "diccionario_edades = {\"marga\": 36, \n",
    "                     \"alex\": 31, \n",
    "                     \"elena\": 42,  \n",
    "                     \"juana\": 70, \n",
    "                     \"arnau\": 35, \n",
    "                     \"aina\" : 35}\n",
    "\n",
    "print(diccionario_edades)"
   ]
  },
  {
   "cell_type": "code",
   "execution_count": 13,
   "metadata": {},
   "outputs": [
    {
     "name": "stdout",
     "output_type": "stream",
     "text": [
      "El valor es 36\n"
     ]
    }
   ],
   "source": [
    "# 3. Acceder al valor de una clave en un diccionario\n",
    "#Descripción: Usando el diccionario creado en el paso anterior, obtén el valor correspondiente a una clave específica que indique el usuario (debereis usar la función input() para preguntar al usuario).\n",
    "\n",
    "\n",
    "diccionario_edades = {\"marga\": 36, \n",
    "                     \"alex\": 31, \n",
    "                     \"elena\": 42,  \n",
    "                     \"juana\": 70, \n",
    "                     \"arnau\": 35, \n",
    "                     \"aina\" : 35}\n",
    "\n",
    "key_acceso = (input(\"inserta la key del valor que deseas obtener: \"))\n",
    "\n",
    "print(\"El valor es\", diccionario_edades[key_acceso])\n",
    "\n",
    "\n",
    "\n",
    "\n",
    "\n"
   ]
  },
  {
   "cell_type": "code",
   "execution_count": 7,
   "metadata": {},
   "outputs": [
    {
     "name": "stdout",
     "output_type": "stream",
     "text": [
      "Introducte la clave del valor que quieres ver\n"
     ]
    },
    {
     "ename": "KeyError",
     "evalue": "<bound method Kernel.raw_input of <ipykernel.ipkernel.IPythonKernel object at 0x1048c52d0>>",
     "output_type": "error",
     "traceback": [
      "\u001b[0;31m---------------------------------------------------------------------------\u001b[0m",
      "\u001b[0;31mKeyError\u001b[0m                                  Traceback (most recent call last)",
      "\u001b[1;32m/Users/margaritaobrador/Adalab/Module-1/pp-module1/da-modulo1-sprint1-pairprogramming-ElenaMarga/PP_diccionarios_sets.ipynb Cell 5\u001b[0m line \u001b[0;36m3\n\u001b[1;32m      <a href='vscode-notebook-cell:/Users/margaritaobrador/Adalab/Module-1/pp-module1/da-modulo1-sprint1-pairprogramming-ElenaMarga/PP_diccionarios_sets.ipynb#W4sZmlsZQ%3D%3D?line=0'>1</a>\u001b[0m \u001b[39mprint\u001b[39m(\u001b[39m\"\u001b[39m\u001b[39mIntroducte la clave del valor que quieres ver\u001b[39m\u001b[39m\"\u001b[39m)\n\u001b[1;32m      <a href='vscode-notebook-cell:/Users/margaritaobrador/Adalab/Module-1/pp-module1/da-modulo1-sprint1-pairprogramming-ElenaMarga/PP_diccionarios_sets.ipynb#W4sZmlsZQ%3D%3D?line=1'>2</a>\u001b[0m acceso_clave \u001b[39m=\u001b[39m \u001b[39minput\u001b[39m()\n\u001b[0;32m----> <a href='vscode-notebook-cell:/Users/margaritaobrador/Adalab/Module-1/pp-module1/da-modulo1-sprint1-pairprogramming-ElenaMarga/PP_diccionarios_sets.ipynb#W4sZmlsZQ%3D%3D?line=2'>3</a>\u001b[0m \u001b[39mprint\u001b[39m(diccionario_edades[\u001b[39minput\u001b[39m])\n",
      "\u001b[0;31mKeyError\u001b[0m: <bound method Kernel.raw_input of <ipykernel.ipkernel.IPythonKernel object at 0x1048c52d0>>"
     ]
    }
   ],
   "source": [
    "\n",
    "print(\"Introducte la clave del valor que quieres ver\")\n",
    "acceso_clave = input()\n",
    "print(diccionario_edades[input])\n",
    "\n"
   ]
  }
 ],
 "metadata": {
  "kernelspec": {
   "display_name": "base",
   "language": "python",
   "name": "python3"
  },
  "language_info": {
   "codemirror_mode": {
    "name": "ipython",
    "version": 3
   },
   "file_extension": ".py",
   "mimetype": "text/x-python",
   "name": "python",
   "nbconvert_exporter": "python",
   "pygments_lexer": "ipython3",
   "version": "3.11.5"
  },
  "orig_nbformat": 4
 },
 "nbformat": 4,
 "nbformat_minor": 2
}

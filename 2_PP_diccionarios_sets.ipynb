{
 "cells": [
  {
   "cell_type": "code",
   "execution_count": 1,
   "metadata": {},
   "outputs": [
    {
     "name": "stdout",
     "output_type": "stream",
     "text": [
      "{}\n"
     ]
    }
   ],
   "source": [
    "# 1. Crear un diccionario vacío\n",
    "# Descripción: Crea un diccionario vacío sin ningún par clave-valor.\n",
    "\n",
    "diccionario_vacio = {}\n",
    "print(diccionario_vacio)"
   ]
  },
  {
   "cell_type": "code",
   "execution_count": 2,
   "metadata": {},
   "outputs": [
    {
     "name": "stdout",
     "output_type": "stream",
     "text": [
      "{'lunes': 1, 'martes': 2, 'miércoles': 3, 'jueves': 4, 'viernes': 5}\n"
     ]
    }
   ],
   "source": [
    " # 2. Crear un diccionario con elementos\n",
    "# Descripción: Crea un diccionario con pares clave-valor predefinidos. Definir el diccionario con las claves y valores que querais. \n",
    "# NOTA El diccionario debe tener al menos 5 pares de clave:valor.\n",
    "\n",
    "diccionario_elementos = {\"lunes\": 1,\n",
    "                         \"martes\": 2,\n",
    "                         \"miércoles\": 3,\n",
    "                         \"jueves\": 4,\n",
    "                         \"viernes\": 5}\n",
    "\n",
    "print(diccionario_elementos)"
   ]
  },
  {
   "cell_type": "code",
   "execution_count": 3,
   "metadata": {},
   "outputs": [
    {
     "name": "stdout",
     "output_type": "stream",
     "text": [
      "{'lunes': 1, 'martes': 2, 'miércoles': 3, 'jueves': 4, 'viernes': 5}\n",
      "1\n"
     ]
    }
   ],
   "source": [
    "# 3. Acceder al valor de una clave en un diccionario\n",
    "#Descripción: Usando el diccionario creado en el paso anterior, obtén el valor correspondiente a una clave específica que indique el usuario (debereis usar la función input() para preguntar al usuario).\n",
    "\n",
    "print(diccionario_elementos)\n",
    "acceso_clave = input(f\"Accede al valor introduciendo la clave: {diccionario_elementos.keys()} \")\n",
    "print(diccionario_elementos[acceso_clave])\n"
   ]
  },
  {
   "cell_type": "code",
   "execution_count": 4,
   "metadata": {},
   "outputs": [
    {
     "name": "stdout",
     "output_type": "stream",
     "text": [
      "{'lunes': 1, 'martes': 2, 'miércoles': 3, 'jueves': 4, 'viernes': 5}\n",
      "{'lunes': 1, 'martes': 2, 'miércoles': 3, 'jueves': 4, 'viernes': 5, 'sabado': 6}\n"
     ]
    }
   ],
   "source": [
    "# 4. Agregar un nuevo par clave- valor a un diccionario. Usando el dicc creado en el ejercicio 2, agrega un nuvo par clave valor\n",
    "\n",
    "print(diccionario_elementos)\n",
    "\n",
    "diccionario_elementos.setdefault(\"sabado\", 6)\n",
    "\n",
    "print(diccionario_elementos)\n",
    "\n",
    "#Pendiente revisar opción append or update \n"
   ]
  },
  {
   "cell_type": "code",
   "execution_count": 5,
   "metadata": {},
   "outputs": [
    {
     "name": "stdout",
     "output_type": "stream",
     "text": [
      "{'lunes': 1, 'martes': 2, 'miércoles': 3, 'jueves': 4, 'viernes': 5, 'sabado': 6}\n"
     ]
    }
   ],
   "source": [
    "#5 actualizar el valor de una clave en un diccionario. \n",
    "# Descripción: Usando el diccionario creado en el ejercicio 2, actualiza el valor correspondiente a una clave existente. Ejemplo:\n",
    "\n",
    "print(diccionario_elementos)\n",
    "\n",
    "diccionario_elementos2 = {\"martes\":8}\n",
    "\n",
    "diccionario_elementos.update(diccionario_elementos2)\n"
   ]
  },
  {
   "cell_type": "code",
   "execution_count": 7,
   "metadata": {},
   "outputs": [
    {
     "name": "stdout",
     "output_type": "stream",
     "text": [
      "4\n"
     ]
    },
    {
     "data": {
      "text/plain": [
       "{'lunes': 1, 'martes': 8, 'miércoles': 3, 'viernes': 5, 'sabado': 6}"
      ]
     },
     "execution_count": 7,
     "metadata": {},
     "output_type": "execute_result"
    }
   ],
   "source": [
    "#6. Eliminar un par clave valor específico de un diccionario. Usando la función input()\n",
    "\n",
    "diccionario_elementos\n",
    "\n",
    "valor_pop = input(\"Dime que valor quieres quitar: \")\n",
    "print(diccionario_elementos.pop(valor_pop))\n",
    "\n",
    "diccionario_elementos\n"
   ]
  },
  {
   "cell_type": "code",
   "execution_count": 9,
   "metadata": {},
   "outputs": [
    {
     "name": "stdout",
     "output_type": "stream",
     "text": [
      "1\n"
     ]
    },
    {
     "data": {
      "text/plain": [
       "{'lunes': 1, 'martes': 8, 'miércoles': 3, 'viernes': 5, 'sabado': 6}"
      ]
     },
     "execution_count": 9,
     "metadata": {},
     "output_type": "execute_result"
    }
   ],
   "source": [
    "#7. Verificar si una clave está presente de un diccionario. \n",
    "\n",
    "# Descripción: Usando el diccionario creado en el ejercicio 2, elimina un par clave-valor específico que indique el usuario \n",
    "#(debereis usar la función input() para preguntar al usuario).\n",
    "\n",
    "\n",
    "diccionario_elementos\n",
    "\n",
    "var_chequeo = input(\"Buscar el valor que quieras para saber si está: \")\n",
    "print(diccionario_elementos.get(var_chequeo))\n",
    "\n",
    "diccionario_elementos"
   ]
  },
  {
   "cell_type": "code",
   "execution_count": 10,
   "metadata": {},
   "outputs": [
    {
     "name": "stdout",
     "output_type": "stream",
     "text": [
      "{'lunes': 1, 'martes': 8, 'miércoles': 3, 'viernes': 5, 'sabado': 6}\n",
      "['lunes', 'martes', 'miércoles', 'viernes', 'sabado']\n"
     ]
    }
   ],
   "source": [
    "#8 obtener una lista de todas las claves del diccionario. \n",
    "# Descripción: Usando el diccionario creado en el ejercicio 2, obtén una lista con todas las claves que contiene.\n",
    "\n",
    "diccionario_elementos\n",
    "\n",
    "diccionario_elementos_copy = diccionario_elementos.copy()\n",
    "print(diccionario_elementos_copy)\n",
    "\n",
    "diccionario_elementos_copy = list(diccionario_elementos_copy)\n",
    "print(diccionario_elementos_copy)\n",
    "\n"
   ]
  },
  {
   "cell_type": "code",
   "execution_count": 11,
   "metadata": {},
   "outputs": [
    {
     "name": "stdout",
     "output_type": "stream",
     "text": [
      "{'lunes': 1, 'martes': 8, 'miércoles': 3, 'viernes': 5, 'sabado': 6}\n"
     ]
    },
    {
     "data": {
      "text/plain": [
       "[1, 8, 3, 5, 6]"
      ]
     },
     "execution_count": 11,
     "metadata": {},
     "output_type": "execute_result"
    }
   ],
   "source": [
    "#9. Obtener una lista de todos los valores de un diccionario. Obten los valores del diccionario en formato lista\n",
    "\n",
    "diccionario_elementos_copy_values = diccionario_elementos.copy()\n",
    "print(diccionario_elementos_copy_values)\n",
    "\n",
    "diccionario_elementos_copy_values = list(diccionario_elementos_copy_values.values())\n",
    "diccionario_elementos_copy_values\n"
   ]
  },
  {
   "cell_type": "code",
   "execution_count": 12,
   "metadata": {},
   "outputs": [
    {
     "data": {
      "text/plain": [
       "{'lunes': 1,\n",
       " 'martes': 8,\n",
       " 'miércoles': 3,\n",
       " 'viernes': 5,\n",
       " 'sabado': 6,\n",
       " 'domingo': 7}"
      ]
     },
     "execution_count": 12,
     "metadata": {},
     "output_type": "execute_result"
    }
   ],
   "source": [
    "#10. Utilizar el método setdefault() para establecer un valor predeterminado si la clave no existe. \n",
    "# Usando el diccionario creado en el ejercicio 2, obten el valor correspondiente a una clave. \n",
    "# Si la clave no existe, establece un valor predeterminado y devuelve dicho valor.\n",
    "\n",
    "diccionario_elementos.setdefault(\"sabado\", 6 )\n",
    "diccionario_elementos.setdefault(\"domingo\", 7)\n",
    "\n",
    "diccionario_elementos\n",
    "\n"
   ]
  },
  {
   "cell_type": "code",
   "execution_count": 13,
   "metadata": {},
   "outputs": [
    {
     "name": "stdout",
     "output_type": "stream",
     "text": [
      "{'lunes': 1, 'martes': 8, 'miércoles': 3, 'viernes': 5, 'sabado': 6, 'domingo': 7}\n",
      "{'lunes': 1, 'miércoles': 3, 'viernes': 5, 'sabado': 6, 'domingo': 7}\n",
      "{'lunes': 1, 'miércoles': 3, 'viernes': 5, 'sabado': 6}\n"
     ]
    }
   ],
   "source": [
    "# 11. Manipulación de un diccionario utilizando pop() y popitem()\n",
    "# Descripción: Usando el diccionario creado en el ejercicio 2, realiza operaciones de eliminación utilizando pop() y popitem(), y observa cómo afectan al diccionario.\n",
    "\n",
    "print(diccionario_elementos)\n",
    "\n",
    "\n",
    "#eliminar con el método pop() debes declarar qué clave quieres eliminar\n",
    "diccionario_elementos.pop(\"martes\")\n",
    "print(diccionario_elementos)\n",
    "\n",
    "#Eliminar con el método popitem() te elimina el último de la lista\n",
    "diccionario_elementos.popitem()\n",
    "print(diccionario_elementos)\n",
    "\n",
    "\n"
   ]
  },
  {
   "cell_type": "markdown",
   "metadata": {},
   "source": [
    "SETS"
   ]
  },
  {
   "cell_type": "code",
   "execution_count": 14,
   "metadata": {},
   "outputs": [],
   "source": [
    "# 1. Crea un conjunto vacío sin ningún elemento\n",
    "set_paises = {}"
   ]
  },
  {
   "cell_type": "code",
   "execution_count": 15,
   "metadata": {},
   "outputs": [
    {
     "name": "stdout",
     "output_type": "stream",
     "text": [
      "Estas son las ciudades más visitadas de Europa: {'Paris', 'Madrid', 'Barcelona', 'Berlin', 'Roma'}\n"
     ]
    }
   ],
   "source": [
    "# 2. Crea un conjunto de elementos predefinidos\n",
    "ciudades = [\"Barcelona\", \"Madrid\",\"Roma\", \"Berlin\",\"Paris\"]\n",
    "ciudades_europeas = set(ciudades)\n",
    "\n",
    "print(\"Estas son las ciudades más visitadas de Europa:\", ciudades_europeas)\n"
   ]
  },
  {
   "cell_type": "code",
   "execution_count": 16,
   "metadata": {},
   "outputs": [
    {
     "name": "stdout",
     "output_type": "stream",
     "text": [
      "estas son las ciudades más visitadas de Europa: {'Paris', 'Madrid', 'Barcelona', 'Berlin', 'Londres', 'Roma'}\n",
      "estas son las ciudades más visitadas de Europa: {'Paris', 'Madrid', 'Barcelona', 'Berlin', 'Praga', 'Londres', 'Roma', 'Oslo', 'Lisboa'}\n"
     ]
    }
   ],
   "source": [
    "#3. Agrega elementos a un conjunto. Usando el set creado en el ejercicio 2, agrega nuevos elementos. Debereis agregar por separado \n",
    "# - un elemento solo\n",
    "# - un par de elementos a la vez\n",
    "\n",
    "ciudades_europeas.add(\"Londres\")\n",
    "ciudades_europeas_top = ciudades_europeas\n",
    "print(\"estas son las ciudades más visitadas de Europa:\", ciudades_europeas_top)\n",
    "\n",
    "\n",
    "# 3.2 un par de elementos a la vez\n",
    "nuevas_ciudades = [\"Oslo\",\"Praga\",\"Lisboa\"]\n",
    "ciudades_europeas_top.update(nuevas_ciudades)\n",
    "ciudades_europeas_supertop = ciudades_europeas_top\n",
    "print(\"estas son las ciudades más visitadas de Europa:\", ciudades_europeas_supertop)"
   ]
  },
  {
   "cell_type": "code",
   "execution_count": 17,
   "metadata": {},
   "outputs": [
    {
     "name": "stdout",
     "output_type": "stream",
     "text": [
      "Estas son las top ciudades europeas en 2023: {'Madrid', 'Barcelona', 'Berlin', 'Praga', 'Londres', 'Roma', 'Oslo', 'Lisboa'}\n"
     ]
    }
   ],
   "source": [
    "#4. Eliminar un elemento de un conjunto: Usando el set creado en el ej 2, eliminar un elemento espeficado por el usuario. \n",
    "ciudades_europeas_quitar = ciudades_europeas\n",
    "\n",
    "ciudades_europeas_quitar.remove(\"Paris\")\n",
    "\n",
    "print(\"Estas son las top ciudades europeas en 2023:\", ciudades_europeas_quitar)\n"
   ]
  },
  {
   "cell_type": "code",
   "execution_count": 18,
   "metadata": {},
   "outputs": [
    {
     "name": "stdout",
     "output_type": "stream",
     "text": [
      "Se encuentra Lisboa en el top de ciudades europeas: True\n",
      "{'Madrid', 'Barcelona', 'Berlin', 'Praga', 'Londres', 'Roma', 'Oslo', 'Lisboa'}\n"
     ]
    }
   ],
   "source": [
    "#5. Verifica la pertenencia de un elemento en un conjunto. Usando el set creado en el ej 2, verifica si un elemento específico está presente en él. \n",
    "ciudades_europeas_verificar = ciudades_europeas\n",
    "elemento = \"Lisboa\"\n",
    "verificar_ciudades = elemento in ciudades_europeas_verificar\n",
    "print (\"Se encuentra\", elemento, \"en el top de ciudades europeas:\", verificar_ciudades)\n",
    "print(ciudades_europeas)"
   ]
  },
  {
   "cell_type": "code",
   "execution_count": 19,
   "metadata": {},
   "outputs": [
    {
     "name": "stdout",
     "output_type": "stream",
     "text": [
      "El armario de las hermanas está compuesto por: {'Camiseta', 'Bufanda', 'Abrigo', 'Pantalon', 'Zapatos', 'Botas'}\n"
     ]
    }
   ],
   "source": [
    "# 6. Realizar una unión de conjuntos\n",
    "# Descripción: Dados dos conjuntos, realiza una unión de ellos.\n",
    "Bea = (\"Camiseta\",\"Zapatos\",\"Bufanda\")\n",
    "Irene = (\"Botas\",\"Abrigo\", \"Pantalon\")\n",
    "Armario_Bea = set (Bea)\n",
    "Armario_Irene = set (Irene)\n",
    "\n",
    "Armario_principal = Armario_Bea.union(Armario_Irene)\n",
    "print(\"El armario de las hermanas está compuesto por:\",(Armario_principal))"
   ]
  },
  {
   "cell_type": "code",
   "execution_count": 20,
   "metadata": {},
   "outputs": [
    {
     "name": "stdout",
     "output_type": "stream",
     "text": [
      "Las hermanas han comprado estas mismas prendas para invierno: {'Guantes', 'Beanie'}\n"
     ]
    }
   ],
   "source": [
    "# 7. Realizar una intersección de conjuntos\n",
    " # Descripción: Usando dos conjuntos de datos definidos en el ejercicio anterior, realiza una intersección de ellos.\n",
    "Bea_invierno = (\"Camiseta\",\"Zapatos\",\"Bufanda\", \"Guantes\", \"Beanie\")\n",
    "Irene_invierno = (\"Botas\",\"Abrigo\", \"Pantalon\",\"Guantes\", \"Beanie\")\n",
    "Armario_Bea_invierno = set (Bea_invierno)\n",
    "Armario_Irene_invierno = set (Irene_invierno)\n",
    "Armario_principal_invierno = Armario_Bea_invierno.intersection(Armario_Irene_invierno)\n",
    "print(\"Las hermanas han comprado estas mismas prendas para invierno:\",(Armario_principal_invierno))"
   ]
  },
  {
   "cell_type": "code",
   "execution_count": 22,
   "metadata": {},
   "outputs": [
    {
     "name": "stdout",
     "output_type": "stream",
     "text": [
      "El armario de Irene tiene estas prendas: {'Botas', 'Abrigo', 'Pantalon'} mientras que el de Bea esta compuesto por {'Camiseta', 'Bufanda', 'Zapatos'}\n"
     ]
    }
   ],
   "source": [
    "#8. Realizar una diferencia de conjuntos\n",
    "# Descripción: Usando dos conjuntos de datos definidos en el ejercicio anterior, realiza una diferencia entre ellos.\n",
    "Bea_invierno = (\"Camiseta\",\"Zapatos\",\"Bufanda\", \"Guantes\", \"Beanie\")\n",
    "Irene_invierno = (\"Botas\",\"Abrigo\", \"Pantalon\",\"Guantes\", \"Beanie\")\n",
    "Armario_Bea_invierno = set (Bea_invierno)\n",
    "Armario_Irene_invierno = set (Irene_invierno)\n",
    "Armario_Bea_principal_invierno = Armario_Bea_invierno.difference(Armario_Irene_invierno)\n",
    "Armario_Irene_principal_invierno = Armario_Irene_invierno.difference(Armario_Bea_invierno)\n",
    "print(\"El armario de Irene tiene estas prendas:\",(Armario_Irene_principal_invierno), \"mientras que el de Bea esta compuesto por\", Armario_Bea_principal_invierno)"
   ]
  },
  {
   "cell_type": "code",
   "execution_count": 23,
   "metadata": {},
   "outputs": [],
   "source": [
    "# 9 Verificar si un conjunto es subconjunto de otro\n",
    "# Descripción: Dados dos conjuntos, verifica si uno es subconjunto del otro.\n",
    "Subset1 = 1,2,3,4,5\n",
    "Subset2 = (\"azul\", \"rojo\", \"blanco\")\n",
    "Subset3 = (\"Hoy va a llover\")\n",
    "\n",
    "Set1 = {Subset1, Subset2, Subset3}\n",
    "Final_set= set(Set1)"
   ]
  },
  {
   "cell_type": "code",
   "execution_count": 27,
   "metadata": {},
   "outputs": [
    {
     "name": "stdout",
     "output_type": "stream",
     "text": [
      "False\n",
      "el conjunto 1 NO es un subset de conjunto 2\n",
      "False\n",
      "el conjunto 2 NO es un subset del conjunto 1\n"
     ]
    }
   ],
   "source": [
    "#BONUS: otro ejemplo de sets y subsets: \n",
    "\n",
    "conjunto1 = {1, 2, 3, 4}\n",
    "conjunto2 = {3, 4, 5, 6}\n",
    "\n",
    "#es el conjunto 1 un subset del conjunto2? No. \n",
    "subconjunto = conjunto1.issubset(conjunto2)\n",
    "print(subconjunto)\n",
    "print(\"el conjunto 1 NO es un subset de conjunto 2\")\n",
    "\n",
    "#es el conjunto 2 un subset del conjunto 1? No. \n",
    "subconjunto2 = conjunto2.issubset(conjunto1)\n",
    "print(subconjunto2)\n",
    "print(\"el conjunto 2 NO es un subset del conjunto 1\")"
   ]
  }
 ],
 "metadata": {
  "kernelspec": {
   "display_name": "base",
   "language": "python",
   "name": "python3"
  },
  "language_info": {
   "codemirror_mode": {
    "name": "ipython",
    "version": 3
   },
   "file_extension": ".py",
   "mimetype": "text/x-python",
   "name": "python",
   "nbconvert_exporter": "python",
   "pygments_lexer": "ipython3",
   "version": "3.11.5"
  },
  "orig_nbformat": 4
 },
 "nbformat": 4,
 "nbformat_minor": 2
}

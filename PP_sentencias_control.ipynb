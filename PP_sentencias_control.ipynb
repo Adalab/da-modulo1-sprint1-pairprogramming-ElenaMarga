{
 "cells": [
  {
   "cell_type": "code",
   "execution_count": 3,
   "metadata": {},
   "outputs": [
    {
     "name": "stdout",
     "output_type": "stream",
     "text": [
      "este numero equivale a 0\n"
     ]
    }
   ],
   "source": [
    "#1. Verificar si un número es positivo, negativo o cero (if, elif, else)\n",
    "# Descripción: Dado un número, verifica si es positivo, negativo o cero.\n",
    "\n",
    "numero = 0\n",
    "\n",
    "if numero == 0: \n",
    "    print(\"este numero equivale a 0\")\n",
    "\n",
    "elif numero > 0:\n",
    "    print(\"este numero es positivo\")\n",
    "\n",
    "else: \n",
    "    print(\"este nuemvo es negativo\")\n"
   ]
  },
  {
   "cell_type": "code",
   "execution_count": 16,
   "metadata": {},
   "outputs": [
    {
     "name": "stdout",
     "output_type": "stream",
     "text": [
      "tu numero es 14 y por tanto es par\n",
      "0\n",
      "7.0\n"
     ]
    }
   ],
   "source": [
    "# 2. Verificar si un número es par o impar\n",
    "# Descripción: Dado un número, verifica si es par o impar.\n",
    "\n",
    "numero = 14\n",
    "\n",
    "if numero % 2 == 0:\n",
    "    print(f\"tu numero es {numero} y por tanto es par\")\n",
    "\n",
    "else:\n",
    "    print(f\"tu numero es {numero} y por tanto es impar\")\n",
    "\n",
    "\n",
    "# si yo divido el numero entre 2, si me da decimales, tiene residuo por tanto es impar, si no me da decimales No tiene residuo por tanto es par. \n",
    "print(numero % 2)\n",
    "print(numero/2)"
   ]
  },
  {
   "cell_type": "code",
   "execution_count": 17,
   "metadata": {},
   "outputs": [
    {
     "name": "stdout",
     "output_type": "stream",
     "text": [
      "el alumno ha suspendido\n"
     ]
    }
   ],
   "source": [
    "# 3. Verificar si un estudiante aprobó o suspendió un examen\n",
    "# Descripción: Dada la calificación de un estudiante en un examen, verifica si aprobó o suspendió \n",
    "# (si la calificación es mayor o igual a 60 se considera aprobado).\n",
    "\n",
    "calificacion = 8\n",
    "\n",
    "if calificacion >= 60:\n",
    "    print(\" el alumno está aprobado\")\n",
    "\n",
    "else: \n",
    "    print(\"el alumno ha suspendido\")"
   ]
  },
  {
   "cell_type": "code",
   "execution_count": 19,
   "metadata": {},
   "outputs": [
    {
     "name": "stdout",
     "output_type": "stream",
     "text": [
      "numero 2 es mayor q num 1\n"
     ]
    }
   ],
   "source": [
    "# 4 Calcula el máximo entre dos numeros. Desc: dados 2 num encuentra el máximo entre ellos. \n",
    "\n",
    "numero1 = 58\n",
    "numero2 = 300\n",
    "\n",
    "if numero1 > numero2:\n",
    "    print(\"numero 1 es mayor que 2\")\n",
    "\n",
    "else:\n",
    "    print(\"numero 2 es mayor q num 1\")"
   ]
  },
  {
   "cell_type": "code",
   "execution_count": 22,
   "metadata": {},
   "outputs": [
    {
     "name": "stdout",
     "output_type": "stream",
     "text": [
      "esta letra es una consonante\n"
     ]
    }
   ],
   "source": [
    "# 5. Verificar si una letra es una vocal o una consonante\n",
    "# Descripción: Dada una letra, verifica si es una vocal o una consonante.\n",
    "\n",
    "letra = \"b\"\n",
    "\n",
    "vocal = [ \"a\", \"e\", \"i\", \"o\", \"u\"]\n",
    "\n",
    "if letra in vocal: \n",
    "    print(\"esta letra es una vocal\")\n",
    "\n",
    "else:\n",
    "    print(\"esta letra es una consonante\")\n",
    "\n"
   ]
  },
  {
   "cell_type": "code",
   "execution_count": 26,
   "metadata": {},
   "outputs": [
    {
     "name": "stdout",
     "output_type": "stream",
     "text": [
      "tu compra no tiene descuento\n"
     ]
    }
   ],
   "source": [
    "# 6. Calcula el descuento de una compra segun el monto total. \n",
    "# dado el monto total de una compra, calcula el desc segun las sig condiciones. \n",
    "# 1. si monto es = o mayor a 100, se aplica el 10% de lo contrario no hay descuento. \n",
    "\n",
    "compra = 50 \n",
    "\n",
    "if compra >= 100:\n",
    "    print(\"se aplica un 10% de descuento que es, por tanto pagas\",int(compra * 0.9))\n",
    "\n",
    "else:\n",
    "    print(\"tu compra no tiene descuento\")"
   ]
  },
  {
   "cell_type": "code",
   "execution_count": 40,
   "metadata": {},
   "outputs": [
    {
     "name": "stdout",
     "output_type": "stream",
     "text": [
      "no es divisible entre 400, por lo tanto no es bisiesto/par\n"
     ]
    }
   ],
   "source": [
    "# 7. Verifica si un año es bisiesto o no. \n",
    "# desc: dado un año verifica si es bisiesto o no. es divisible si es entre 4, Excepto aquellos divisibles entre 100 pero no entre 400. \n",
    "\n",
    "año = 1985\n",
    "\n",
    "if año % 4 == 0: \n",
    "    print(\"es divisible entre 4, por lo tanto es bisiesto/par\")\n",
    "    if año % 100 == 0: \n",
    "      print(\"es divisible entre 100, por lo tanto es bisiesto/par\")\n",
    "\n",
    "#elif año % 400 != 0: \n",
    "     #print(\"no es divisible entre 400, por lo tanto no es bisiesto/par\")\n",
    "\n",
    "else:\n",
    "     print(\"no es divisible entre 400, por lo tanto no es bisiesto/par\")\n"
   ]
  },
  {
   "cell_type": "code",
   "execution_count": 50,
   "metadata": {},
   "outputs": [
    {
     "name": "stdout",
     "output_type": "stream",
     "text": [
      "eres menor de edad\n"
     ]
    }
   ],
   "source": [
    "# 8. asigna una categoría a una edad.\n",
    "# dada una edad, asigna una categoría según las sig condiciones. \n",
    "\n",
    "# - si edad es menor de 18 = menor de edad\n",
    "# - si la edad es entre 18 y 64 (incl) = adulto \n",
    "# - si es mayor que 64 = adulto mayor \n",
    "\n",
    "edad = 2\n",
    "menor_edad = list(range(1,18))\n",
    "adultos =  list(range(18,65))\n",
    "adulto_mayor = list(range(65,100))    \n",
    "\n",
    "if edad in menor_edad:\n",
    "    print(\"eres menor de edad\")\n",
    "elif edad in adultos:\n",
    "    print(\"eres adulto\")\n",
    "else:\n",
    "    print(\"eres un anciano\")\n",
    "\n",
    "\n",
    "\n",
    "\n"
   ]
  },
  {
   "cell_type": "code",
   "execution_count": 56,
   "metadata": {},
   "outputs": [
    {
     "name": "stdout",
     "output_type": "stream",
     "text": [
      "triangulo\n"
     ]
    }
   ],
   "source": [
    "# 9. Verifica si tres numeros forman un triangulo - rectangulo. \n",
    "# Dados 3 num verifica si forma triangulo - rect: si se cumple teorema de pitágoras. \n",
    "\n",
    "# teoremaP = (a** + b** == c**) (es un triangulo)\n",
    "\n",
    "a = 8**2\n",
    "b = 13**2\n",
    "c = a + b\n",
    "\n",
    "if c == a + b: \n",
    "    print(\"triangulo- rectangulo!\")\n",
    "\n",
    "else: (\"no lo es\")\n",
    "\n"
   ]
  },
  {
   "cell_type": "code",
   "execution_count": null,
   "metadata": {},
   "outputs": [],
   "source": [
    "# 10. Asignar una calificación a una puntuación\n",
    "#Descripción: Dada una puntuación, asigna una calificación según las siguientes condiciones: \n",
    "#si la puntuación es mayor o igual a 90, la calificación es \"A\"; si es mayor o igual a 80, la calificación es \"B\"; \n",
    "#si es mayor o igual a 70, la calificación es \"C\"; si es mayor o igual a 60, la calificación es \"D\"; de lo contrario, la calificación es \"F\"."
   ]
  },
  {
   "cell_type": "code",
   "execution_count": null,
   "metadata": {},
   "outputs": [],
   "source": [
    "# 11. Calcular el índice de masa corporal (IMC) y categorizarlo\n",
    "#Descripción: Dados el peso (en kg) y la altura (en metros) de una persona, calcula su IMC y categorízalo según las siguientes condiciones: \n",
    "#si el IMC es menor a 18.5, es \"Bajo peso\"; si está entre 18.5 y 24.9 (inclusive), es \"Peso normal\"; si está entre 25 y 29.9 (inclusive), es \"Sobrepeso\"; de lo contrario, es \"Obesidad\".\n",
    "\n",
    "altura = float(input(\"Escribe tu altura en metros: \"))\n",
    "\n",
    "peso = float(input(\"escribe tu peso en kgs: \"))\n",
    "#En la formula de IMC añado el round ( el numero que quiero redondear, cuantos decimales quiero dejar)\n",
    "imc = round((peso / (altura**2)), 1)\n",
    "\n",
    "\n",
    "if imc < 18.5: \n",
    "    print(f\"Bajo peso: Tu indice es {imc}, por tanto, menor que 18.5\")\n",
    "\n",
    "if imc >= 18.5 and imc <= 24.9: \n",
    "    print(f\"Peso normal: tu imc es {imc}, entre 18.5 y 24.9\")\n",
    "\n",
    "if imc >= 25 and imc <= 29.9:\n",
    "    print(f\"Sobrepeso: tu imc es {imc}, entre 25 y 29.9\")\n",
    "\n",
    "else: \n",
    "    print(f\"Obesidad: tu imc es {imc}, superior a 29.9\")"
   ]
  },
  {
   "cell_type": "code",
   "execution_count": null,
   "metadata": {},
   "outputs": [],
   "source": [
    "# 12. Calcular el mayor de tres números \n",
    "# Descripción: Dados tres números, encuentra el mayor entre ellos. \n",
    "\n",
    "numeros = [ 10, 60, 220]\n",
    "\n",
    "maximo = max(numeros)\n",
    "\n",
    "print(maximo)"
   ]
  },
  {
   "cell_type": "code",
   "execution_count": null,
   "metadata": {},
   "outputs": [],
   "source": [
    "#13. BONUS:Sentencis de control. Verificar la validez de una fecha. \n",
    "# Descripción: dados el día, el mes y el año de una fecha, verifica si la fecha es válida. "
   ]
  },
  {
   "cell_type": "markdown",
   "metadata": {},
   "source": [
    "EJERCICIOS WHILE"
   ]
  },
  {
   "cell_type": "code",
   "execution_count": null,
   "metadata": {},
   "outputs": [],
   "source": [
    "#1. Calcular la suma de los primeros 10 números naturales utilizando un bucle while. \n",
    "# Descripción: Utiliza un bucle while para calcular la suma de los primeros 10 números naturales (1+2+3...10)\n"
   ]
  },
  {
   "cell_type": "code",
   "execution_count": null,
   "metadata": {},
   "outputs": [],
   "source": [
    "#2. Juego de adivinanza utilizando un bucle while. \n",
    "# descripción: crea un juego de adivinanza en el que el jugador tiene que adivinar un número secreto (tendrá que ser entre el 0 y 10). \n",
    "#Utiliza un bucle while para permitir múltiples intentos hasta que el jugador adivine correctamente\n",
    "\n",
    "import random\n",
    "\n",
    "numero_azar = random.randint(0, 10)\n",
    "print(numero_azar)\n",
    "numero_escogido = int(input(\"introduce un numero al azar del 0 al 10: \"))\n",
    "\n",
    "while numero_azar != numero_escogido:\n",
    "    print(f\"Has escogido {numero_escogido} y no coincide con el numero oculto, ¡sigue probando!\")\n",
    "    numero_escogido = int(input(\"introduce un numero al azar del 0 al 10: \"))\n",
    "\n",
    "\n",
    "else: \n",
    " print(f\"Has acertado! el numero oculto es {numero_azar}, !felicidades!\")"
   ]
  }
 ],
 "metadata": {
  "kernelspec": {
   "display_name": "base",
   "language": "python",
   "name": "python3"
  },
  "language_info": {
   "codemirror_mode": {
    "name": "ipython",
    "version": 3
   },
   "file_extension": ".py",
   "mimetype": "text/x-python",
   "name": "python",
   "nbconvert_exporter": "python",
   "pygments_lexer": "ipython3",
   "version": "3.11.5"
  },
  "orig_nbformat": 4
 },
 "nbformat": 4,
 "nbformat_minor": 2
}
